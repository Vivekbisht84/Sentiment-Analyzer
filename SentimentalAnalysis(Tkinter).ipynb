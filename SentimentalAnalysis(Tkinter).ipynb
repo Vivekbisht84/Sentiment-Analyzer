{
 "cells": [
  {
   "cell_type": "code",
   "execution_count": 1,
   "metadata": {},
   "outputs": [
    {
     "name": "stdout",
     "output_type": "stream",
     "text": [
      "Requirement already satisfied: vaderSentiment in c:\\users\\vivek\\anaconda3\\lib\\site-packages (3.3.2)Note: you may need to restart the kernel to use updated packages.\n",
      "Requirement already satisfied: requests in c:\\users\\vivek\\anaconda3\\lib\\site-packages (from vaderSentiment) (2.24.0)\n",
      "Requirement already satisfied: certifi>=2017.4.17 in c:\\users\\vivek\\anaconda3\\lib\\site-packages (from requests->vaderSentiment) (2020.6.20)\n",
      "Requirement already satisfied: chardet<4,>=3.0.2 in c:\\users\\vivek\\anaconda3\\lib\\site-packages (from requests->vaderSentiment) (3.0.4)\n",
      "Requirement already satisfied: idna<3,>=2.5 in c:\\users\\vivek\\anaconda3\\lib\\site-packages (from requests->vaderSentiment) (2.10)\n",
      "Requirement already satisfied: urllib3!=1.25.0,!=1.25.1,<1.26,>=1.21.1 in c:\\users\\vivek\\anaconda3\\lib\\site-packages (from requests->vaderSentiment) (1.25.11)\n",
      "\n"
     ]
    }
   ],
   "source": [
    "pip install vaderSentiment"
   ]
  },
  {
   "cell_type": "code",
   "execution_count": 2,
   "metadata": {},
   "outputs": [],
   "source": [
    "from vaderSentiment.vaderSentiment import SentimentIntensityAnalyzer  \n",
    "from tkinter import *"
   ]
  },
  {
   "cell_type": "code",
   "execution_count": 3,
   "metadata": {},
   "outputs": [],
   "source": [
    "def clearAll() :\n",
    "    negativeField.delete(0, END)\n",
    "    neutralField.delete(0, END)\n",
    "    positiveField.delete(0, END)\n",
    "    textArea.delete(1.0, END)"
   ]
  },
  {
   "cell_type": "code",
   "execution_count": 4,
   "metadata": {},
   "outputs": [],
   "source": [
    "def detect():\n",
    "    sen = textArea.get(\"1.0\", \"end\")\n",
    "    obj = SentimentIntensityAnalyzer() \n",
    "    sentiment = obj.polarity_scores(sen)\n",
    "    \n",
    "    string = str(sentiment['neg']*100) + \"% Negative\"\n",
    "    negativeField.insert(10, string) \n",
    "    string = str(sentiment['neu']*100) + \"% Neutral\"\n",
    "    neutralField.insert(10, string) \n",
    "    string = str(sentiment['pos']*100) +\"% Positive\"\n",
    "    positiveField.insert(10, string) \n",
    "    \n",
    "    if sentiment['compound'] >= 0.05 : \n",
    "        string = \"Positive\"\n",
    "  \n",
    "    elif sentiment['compound'] <= - 0.05 : \n",
    "        string = \"Negative\"\n",
    "       \n",
    "  \n",
    "    else : \n",
    "        string = \"Neutral\"\n",
    "  \n",
    "    overallField.insert(10, string) "
   ]
  },
  {
   "cell_type": "code",
   "execution_count": 5,
   "metadata": {},
   "outputs": [],
   "source": [
    "if __name__ == \"__main__\" :\n",
    "    root = Tk()\n",
    "    root.config(background =  \"white\")\n",
    "    root.title(\"Sentimental Analyzer\")\n",
    "    root.geometry(\"400x400\")\n",
    "    enterText = Label(root, text = \"Enter Your Sentence\")\n",
    "    textArea = Text(root, height = 8, width = 40, font = \"Arial 13\") \n",
    "    check = Button(root, text = \"Analyze\", fg = \"Black\",  \n",
    "                         bg = \"Red\", command = detect) \n",
    "    negative = Label(root, text = \"Negative Rating: \")\n",
    "    neutral = Label(root, text = \"Neutral Rating: \")\n",
    "    positive = Label(root, text = \"Positive Rating: \")\n",
    "    negativeField = Entry(root)\n",
    "    neutralField = Entry(root)\n",
    "    positiveField = Entry(root)\n",
    "    clear = Button(root, text = \"Clear\", fg = \"Black\",  \n",
    "                      bg = \"Red\", command = clearAll) \n",
    "    Exit = Button(root, text = \"Exit\", fg = \"Black\",  \n",
    "                        bg = \"Red\", command = exit) \n",
    "    enterText.grid(row = 0, column = 2)\n",
    "    textArea.grid(row = 1, column = 2, padx = 10, sticky = W) \n",
    "      \n",
    "    check.grid(row = 2, column = 2) \n",
    "      \n",
    "    negative.grid(row = 3, column = 2) \n",
    "      \n",
    "    neutral.grid(row = 5, column = 2) \n",
    "      \n",
    "    positive.grid(row = 7, column = 2) \n",
    "      \n",
    "    negativeField.grid(row = 4, column = 2) \n",
    "  \n",
    "    neutralField.grid(row = 6, column = 2) \n",
    "                        \n",
    "    positiveField.grid(row = 8, column = 2)  \n",
    "      \n",
    "    clear.grid(row = 11, column = 2) \n",
    "   \n",
    "    root.mainloop()  \n",
    "                                     "
   ]
  },
  {
   "cell_type": "code",
   "execution_count": null,
   "metadata": {},
   "outputs": [],
   "source": []
  }
 ],
 "metadata": {
  "kernelspec": {
   "display_name": "Python 3",
   "language": "python",
   "name": "python3"
  },
  "language_info": {
   "codemirror_mode": {
    "name": "ipython",
    "version": 3
   },
   "file_extension": ".py",
   "mimetype": "text/x-python",
   "name": "python",
   "nbconvert_exporter": "python",
   "pygments_lexer": "ipython3",
   "version": "3.8.5"
  }
 },
 "nbformat": 4,
 "nbformat_minor": 4
}
